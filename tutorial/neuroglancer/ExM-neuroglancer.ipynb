{
 "cells": [
  {
   "cell_type": "markdown",
   "id": "bdd8e256",
   "metadata": {},
   "source": [
    "# 1. Install pacakges"
   ]
  },
  {
   "cell_type": "code",
   "execution_count": 1,
   "id": "e4b70b54",
   "metadata": {
    "scrolled": true
   },
   "outputs": [
    {
     "name": "stdout",
     "output_type": "stream",
     "text": [
      "Collecting neuroglancer==2.13\n",
      "  Downloading neuroglancer-2.13.tar.gz (878 kB)\n",
      "\u001b[K     |████████████████████████████████| 878 kB 2.1 MB/s eta 0:00:01\n",
      "\u001b[?25hRequirement already satisfied: Pillow>=3.2.0 in /Applications/anaconda3/envs/exm/lib/python3.9/site-packages (from neuroglancer==2.13) (8.3.1)\n",
      "Requirement already satisfied: numpy>=1.11.0 in /Applications/anaconda3/envs/exm/lib/python3.9/site-packages (from neuroglancer==2.13) (1.21.1)\n",
      "Requirement already satisfied: requests in /Applications/anaconda3/envs/exm/lib/python3.9/site-packages (from neuroglancer==2.13) (2.26.0)\n",
      "Requirement already satisfied: tornado in /Applications/anaconda3/envs/exm/lib/python3.9/site-packages (from neuroglancer==2.13) (6.1)\n",
      "Requirement already satisfied: sockjs-tornado in /Applications/anaconda3/envs/exm/lib/python3.9/site-packages (from neuroglancer==2.13) (1.0.7)\n",
      "Requirement already satisfied: six in /Applications/anaconda3/envs/exm/lib/python3.9/site-packages (from neuroglancer==2.13) (1.16.0)\n",
      "Requirement already satisfied: google-apitools in /Applications/anaconda3/envs/exm/lib/python3.9/site-packages (from neuroglancer==2.13) (0.5.32)\n",
      "Requirement already satisfied: httplib2>=0.8 in /Applications/anaconda3/envs/exm/lib/python3.9/site-packages (from google-apitools->neuroglancer==2.13) (0.19.1)\n",
      "Requirement already satisfied: fasteners>=0.14 in /Applications/anaconda3/envs/exm/lib/python3.9/site-packages (from google-apitools->neuroglancer==2.13) (0.16.3)\n",
      "Requirement already satisfied: oauth2client>=1.4.12 in /Applications/anaconda3/envs/exm/lib/python3.9/site-packages (from google-apitools->neuroglancer==2.13) (4.1.3)\n",
      "Requirement already satisfied: pyparsing<3,>=2.4.2 in /Applications/anaconda3/envs/exm/lib/python3.9/site-packages (from httplib2>=0.8->google-apitools->neuroglancer==2.13) (2.4.7)\n",
      "Requirement already satisfied: rsa>=3.1.4 in /Applications/anaconda3/envs/exm/lib/python3.9/site-packages (from oauth2client>=1.4.12->google-apitools->neuroglancer==2.13) (4.7.2)\n",
      "Requirement already satisfied: pyasn1-modules>=0.0.5 in /Applications/anaconda3/envs/exm/lib/python3.9/site-packages (from oauth2client>=1.4.12->google-apitools->neuroglancer==2.13) (0.2.8)\n",
      "Requirement already satisfied: pyasn1>=0.1.7 in /Applications/anaconda3/envs/exm/lib/python3.9/site-packages (from oauth2client>=1.4.12->google-apitools->neuroglancer==2.13) (0.4.8)\n",
      "Requirement already satisfied: certifi>=2017.4.17 in /Applications/anaconda3/envs/exm/lib/python3.9/site-packages (from requests->neuroglancer==2.13) (2021.5.30)\n",
      "Requirement already satisfied: charset-normalizer~=2.0.0 in /Applications/anaconda3/envs/exm/lib/python3.9/site-packages (from requests->neuroglancer==2.13) (2.0.3)\n",
      "Requirement already satisfied: idna<4,>=2.5 in /Applications/anaconda3/envs/exm/lib/python3.9/site-packages (from requests->neuroglancer==2.13) (3.2)\n",
      "Requirement already satisfied: urllib3<1.27,>=1.21.1 in /Applications/anaconda3/envs/exm/lib/python3.9/site-packages (from requests->neuroglancer==2.13) (1.26.6)\n",
      "Building wheels for collected packages: neuroglancer\n",
      "  Building wheel for neuroglancer (setup.py) ... \u001b[?25ldone\n",
      "\u001b[?25h  Created wheel for neuroglancer: filename=neuroglancer-2.13-cp39-cp39-macosx_10_9_x86_64.whl size=864510 sha256=daa7e334a63d6420ca9626532dd082b2d7d39b758d5182e99f32ab0ab138169c\n",
      "  Stored in directory: /Users/weidf/Library/Caches/pip/wheels/35/d6/77/6d92c37cb30a773dd23d8e2dfa17764cdcf041ee3cfbce4f77\n",
      "Successfully built neuroglancer\n",
      "Installing collected packages: neuroglancer\n",
      "  Attempting uninstall: neuroglancer\n",
      "    Found existing installation: neuroglancer 2.22\n",
      "    Uninstalling neuroglancer-2.22:\n",
      "      Successfully uninstalled neuroglancer-2.22\n",
      "Successfully installed neuroglancer-2.13\n"
     ]
    }
   ],
   "source": [
    "# install neuroglancer for visualization\n",
    "import sys\n",
    "!{sys.executable} -m pip install neuroglancer==2.13"
   ]
  },
  {
   "cell_type": "code",
   "execution_count": 15,
   "id": "f2cd2ad5",
   "metadata": {
    "scrolled": true
   },
   "outputs": [
    {
     "name": "stdout",
     "output_type": "stream",
     "text": [
      "Cloning into 'emu_repo'...\n",
      "remote: Enumerating objects: 265, done.\u001b[K\n",
      "remote: Counting objects: 100% (265/265), done.\u001b[K\n",
      "remote: Compressing objects: 100% (167/167), done.\u001b[K\n",
      "remote: Total 265 (delta 140), reused 207 (delta 85), pack-reused 0\u001b[K\n",
      "Receiving objects: 100% (265/265), 61.57 KiB | 2.46 MiB/s, done.\n",
      "Resolving deltas: 100% (140/140), done.\n",
      "Obtaining file:///Users/weidf/Code/biomed/exM/emu_repo\n",
      "Requirement already satisfied: scipy in /Applications/anaconda3/envs/exm/lib/python3.9/site-packages (from emu==0.1) (1.7.0)\n",
      "Requirement already satisfied: numpy in /Applications/anaconda3/envs/exm/lib/python3.9/site-packages (from emu==0.1) (1.21.1)\n",
      "Requirement already satisfied: networkx in /Applications/anaconda3/envs/exm/lib/python3.9/site-packages (from emu==0.1) (2.5.1)\n",
      "Requirement already satisfied: h5py in /Applications/anaconda3/envs/exm/lib/python3.9/site-packages (from emu==0.1) (3.3.0)\n",
      "Requirement already satisfied: imageio in /Applications/anaconda3/envs/exm/lib/python3.9/site-packages (from emu==0.1) (2.9.0)\n",
      "Requirement already satisfied: pillow in /Applications/anaconda3/envs/exm/lib/python3.9/site-packages (from imageio->emu==0.1) (8.3.1)\n",
      "Requirement already satisfied: decorator<5,>=4.3 in /Applications/anaconda3/envs/exm/lib/python3.9/site-packages (from networkx->emu==0.1) (4.4.2)\n",
      "Installing collected packages: emu\n",
      "  Running setup.py develop for emu\n",
      "Successfully installed emu-0.1\n"
     ]
    }
   ],
   "source": [
    "# SKIP this step if you have already installed the package\n",
    "# install EM-util for utility functions\n",
    "!git clone https://github.com/donglaiw/EM-util emu_repo\n",
    "!{sys.executable} -m pip install -e emu_repo\n",
    "\n",
    "# windows machine:\n",
    "# !{sys.executable} -m pip install https://github.com/donglaiw/EM-util/archive/refs/tags/0.1.tar.gz"
   ]
  },
  {
   "cell_type": "markdown",
   "id": "7120ec2f",
   "metadata": {},
   "source": [
    "# 2. Load a 3D volume in neuroglancer"
   ]
  },
  {
   "cell_type": "code",
   "execution_count": null,
   "id": "482b1ba4-d9bc-4420-8e76-87d97f1234eb",
   "metadata": {},
   "outputs": [],
   "source": [
    "# setup neuroglancer\n",
    "# doesn't work on mac OS big Sur yet..\n",
    "import neuroglancer\n",
    "ip='localhost' # or public IP of the machine for sharable display\n",
    "port=98092 # change to an unused port number\n",
    "neuroglancer.set_server_bind_address(bind_address=ip, bind_port=port)\n",
    "viewer=neuroglancer.Viewer()\n",
    "\n",
    "# click on the url to see the viewer\n",
    "print(viewer)"
   ]
  },
  {
   "cell_type": "code",
   "execution_count": 8,
   "id": "0fd23f1e",
   "metadata": {},
   "outputs": [
    {
     "data": {
      "text/plain": [
       "5770307678"
      ]
     },
     "execution_count": 8,
     "metadata": {},
     "output_type": "execute_result"
    }
   ],
   "source": [
    "# download data\n",
    "import requests\n",
    "url = 'http://rhoana.rc.fas.harvard.edu/dataset/snemi_train.h5'\n",
    "r = requests.get(url, allow_redirects=True)\n",
    "open('snemi_train.h5', 'wb').write(r.content)"
   ]
  },
  {
   "cell_type": "code",
   "execution_count": 1,
   "id": "57adc104",
   "metadata": {},
   "outputs": [],
   "source": [
    "# load the 3d image volume and display it\n",
    "import emu\n",
    "from emu.io import readH5\n",
    "# order: zyx\n",
    "im = readH5('snemi_train.h5')"
   ]
  },
  {
   "cell_type": "code",
   "execution_count": null,
   "id": "27166990",
   "metadata": {},
   "outputs": [],
   "source": [
    "from emu.ng import ngLayer\n",
    "\n",
    "# set volume resolution: order xyz\n",
    "res= [6,6,30]\n",
    "with viewer.txn() as s:\n",
    "    s.layers.append(name='image', layer=ngLayer(im, res, tt='image'))"
   ]
  }
 ],
 "metadata": {
  "kernelspec": {
   "display_name": "Python 3",
   "language": "python",
   "name": "python3"
  },
  "language_info": {
   "codemirror_mode": {
    "name": "ipython",
    "version": 3
   },
   "file_extension": ".py",
   "mimetype": "text/x-python",
   "name": "python",
   "nbconvert_exporter": "python",
   "pygments_lexer": "ipython3",
   "version": "3.9.5"
  }
 },
 "nbformat": 4,
 "nbformat_minor": 5
}
