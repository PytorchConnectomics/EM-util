{
 "cells": [
  {
   "cell_type": "markdown",
   "id": "bdd8e256",
   "metadata": {},
   "source": [
    "# 1. Install pacakges"
   ]
  },
  {
   "cell_type": "code",
   "execution_count": 1,
   "id": "e4b70b54",
   "metadata": {
    "scrolled": true
   },
   "outputs": [
    {
     "name": "stdout",
     "output_type": "stream",
     "text": [
      "Collecting neuroglancer\n",
      "  Downloading neuroglancer-2.22-cp39-cp39-macosx_10_9_x86_64.whl (2.5 MB)\n",
      "\u001b[K     |████████████████████████████████| 2.5 MB 2.1 MB/s eta 0:00:01\n",
      "\u001b[?25hCollecting requests\n",
      "  Downloading requests-2.26.0-py2.py3-none-any.whl (62 kB)\n",
      "\u001b[K     |████████████████████████████████| 62 kB 992 kB/s  eta 0:00:01\n",
      "\u001b[?25hCollecting google-auth\n",
      "  Downloading google_auth-1.33.1-py2.py3-none-any.whl (152 kB)\n",
      "\u001b[K     |████████████████████████████████| 152 kB 22.8 MB/s eta 0:00:01\n",
      "\u001b[?25hCollecting Pillow>=3.2.0\n",
      "  Downloading Pillow-8.3.1-cp39-cp39-macosx_10_10_x86_64.whl (2.9 MB)\n",
      "\u001b[K     |████████████████████████████████| 2.9 MB 9.8 MB/s eta 0:00:01\n",
      "\u001b[?25hRequirement already satisfied: tornado in /Applications/anaconda3/envs/exm/lib/python3.9/site-packages (from neuroglancer) (6.1)\n",
      "Collecting sockjs-tornado\n",
      "  Downloading sockjs-tornado-1.0.7.tar.gz (21 kB)\n",
      "Collecting numpy>=1.11.0\n",
      "  Downloading numpy-1.21.1-cp39-cp39-macosx_10_9_x86_64.whl (17.0 MB)\n",
      "\u001b[K     |████████████████████████████████| 17.0 MB 8.6 MB/s eta 0:00:01\n",
      "\u001b[?25hCollecting google-apitools\n",
      "  Downloading google_apitools-0.5.32-py3-none-any.whl (135 kB)\n",
      "\u001b[K     |████████████████████████████████| 135 kB 57.1 MB/s eta 0:00:01\n",
      "\u001b[?25hRequirement already satisfied: six in /Applications/anaconda3/envs/exm/lib/python3.9/site-packages (from neuroglancer) (1.16.0)\n",
      "Collecting httplib2>=0.8\n",
      "  Downloading httplib2-0.19.1-py3-none-any.whl (95 kB)\n",
      "\u001b[K     |████████████████████████████████| 95 kB 4.1 MB/s  eta 0:00:01\n",
      "\u001b[?25hCollecting fasteners>=0.14\n",
      "  Downloading fasteners-0.16.3-py2.py3-none-any.whl (28 kB)\n",
      "Collecting oauth2client>=1.4.12\n",
      "  Downloading oauth2client-4.1.3-py2.py3-none-any.whl (98 kB)\n",
      "\u001b[K     |████████████████████████████████| 98 kB 9.7 MB/s  eta 0:00:01\n",
      "\u001b[?25hRequirement already satisfied: pyparsing<3,>=2.4.2 in /Applications/anaconda3/envs/exm/lib/python3.9/site-packages (from httplib2>=0.8->google-apitools->neuroglancer) (2.4.7)\n",
      "Collecting pyasn1>=0.1.7\n",
      "  Downloading pyasn1-0.4.8-py2.py3-none-any.whl (77 kB)\n",
      "\u001b[K     |████████████████████████████████| 77 kB 5.9 MB/s  eta 0:00:01\n",
      "\u001b[?25hCollecting rsa>=3.1.4\n",
      "  Downloading rsa-4.7.2-py3-none-any.whl (34 kB)\n",
      "Collecting pyasn1-modules>=0.0.5\n",
      "  Downloading pyasn1_modules-0.2.8-py2.py3-none-any.whl (155 kB)\n",
      "\u001b[K     |████████████████████████████████| 155 kB 47.4 MB/s eta 0:00:01\n",
      "\u001b[?25hRequirement already satisfied: setuptools>=40.3.0 in /Applications/anaconda3/envs/exm/lib/python3.9/site-packages (from google-auth->neuroglancer) (52.0.0.post20210125)\n",
      "Collecting cachetools<5.0,>=2.0.0\n",
      "  Downloading cachetools-4.2.2-py3-none-any.whl (11 kB)\n",
      "Collecting charset-normalizer~=2.0.0\n",
      "  Downloading charset_normalizer-2.0.3-py3-none-any.whl (35 kB)\n",
      "Requirement already satisfied: certifi>=2017.4.17 in /Applications/anaconda3/envs/exm/lib/python3.9/site-packages (from requests->neuroglancer) (2021.5.30)\n",
      "Collecting urllib3<1.27,>=1.21.1\n",
      "  Downloading urllib3-1.26.6-py2.py3-none-any.whl (138 kB)\n",
      "\u001b[K     |████████████████████████████████| 138 kB 61.5 MB/s eta 0:00:01\n",
      "\u001b[?25hCollecting idna<4,>=2.5\n",
      "  Downloading idna-3.2-py3-none-any.whl (59 kB)\n",
      "\u001b[K     |████████████████████████████████| 59 kB 3.0 MB/s eta 0:00:01\n",
      "\u001b[?25hBuilding wheels for collected packages: sockjs-tornado\n",
      "  Building wheel for sockjs-tornado (setup.py) ... \u001b[?25ldone\n",
      "\u001b[?25h  Created wheel for sockjs-tornado: filename=sockjs_tornado-1.0.7-py3-none-any.whl size=31688 sha256=da6c4214e5ad5a0cb44b8cdba835ee0881a84c3f83998396b1cab6d70af1bddc\n",
      "  Stored in directory: /Users/weidf/Library/Caches/pip/wheels/19/db/34/221419adf0402a8a6d6816706e7123e0d1a1e2141911b54a5b\n",
      "Successfully built sockjs-tornado\n",
      "Installing collected packages: pyasn1, rsa, pyasn1-modules, httplib2, urllib3, oauth2client, idna, fasteners, charset-normalizer, cachetools, sockjs-tornado, requests, Pillow, numpy, google-auth, google-apitools, neuroglancer\n",
      "Successfully installed Pillow-8.3.1 cachetools-4.2.2 charset-normalizer-2.0.3 fasteners-0.16.3 google-apitools-0.5.32 google-auth-1.33.1 httplib2-0.19.1 idna-3.2 neuroglancer-2.22 numpy-1.21.1 oauth2client-4.1.3 pyasn1-0.4.8 pyasn1-modules-0.2.8 requests-2.26.0 rsa-4.7.2 sockjs-tornado-1.0.7 urllib3-1.26.6\n"
     ]
    }
   ],
   "source": [
    "# install neuroglancer for visualization\n",
    "import sys\n",
    "!{sys.executable} -m pip install neuroglancer"
   ]
  },
  {
   "cell_type": "code",
   "execution_count": 15,
   "id": "f2cd2ad5",
   "metadata": {
    "scrolled": true
   },
   "outputs": [
    {
     "name": "stdout",
     "output_type": "stream",
     "text": [
      "Cloning into 'emu_repo'...\n",
      "remote: Enumerating objects: 265, done.\u001b[K\n",
      "remote: Counting objects: 100% (265/265), done.\u001b[K\n",
      "remote: Compressing objects: 100% (167/167), done.\u001b[K\n",
      "remote: Total 265 (delta 140), reused 207 (delta 85), pack-reused 0\u001b[K\n",
      "Receiving objects: 100% (265/265), 61.57 KiB | 2.46 MiB/s, done.\n",
      "Resolving deltas: 100% (140/140), done.\n",
      "Obtaining file:///Users/weidf/Code/biomed/exM/emu_repo\n",
      "Requirement already satisfied: scipy in /Applications/anaconda3/envs/exm/lib/python3.9/site-packages (from emu==0.1) (1.7.0)\n",
      "Requirement already satisfied: numpy in /Applications/anaconda3/envs/exm/lib/python3.9/site-packages (from emu==0.1) (1.21.1)\n",
      "Requirement already satisfied: networkx in /Applications/anaconda3/envs/exm/lib/python3.9/site-packages (from emu==0.1) (2.5.1)\n",
      "Requirement already satisfied: h5py in /Applications/anaconda3/envs/exm/lib/python3.9/site-packages (from emu==0.1) (3.3.0)\n",
      "Requirement already satisfied: imageio in /Applications/anaconda3/envs/exm/lib/python3.9/site-packages (from emu==0.1) (2.9.0)\n",
      "Requirement already satisfied: pillow in /Applications/anaconda3/envs/exm/lib/python3.9/site-packages (from imageio->emu==0.1) (8.3.1)\n",
      "Requirement already satisfied: decorator<5,>=4.3 in /Applications/anaconda3/envs/exm/lib/python3.9/site-packages (from networkx->emu==0.1) (4.4.2)\n",
      "Installing collected packages: emu\n",
      "  Running setup.py develop for emu\n",
      "Successfully installed emu-0.1\n"
     ]
    }
   ],
   "source": [
    "# install EM-util for utility functions\n",
    "!git clone https://github.com/donglaiw/EM-util emu_repo\n",
    "!{sys.executable} -m pip install -e emu_repo"
   ]
  },
  {
   "cell_type": "markdown",
   "id": "7120ec2f",
   "metadata": {},
   "source": [
    "# 2. Load a 3D volume in neuroglancer"
   ]
  },
  {
   "cell_type": "code",
   "execution_count": 8,
   "id": "0fd23f1e",
   "metadata": {},
   "outputs": [
    {
     "data": {
      "text/plain": [
       "5770307678"
      ]
     },
     "execution_count": 8,
     "metadata": {},
     "output_type": "execute_result"
    }
   ],
   "source": [
    "# download data\n",
    "import requests\n",
    "url = 'http://rhoana.rc.fas.harvard.edu/dataset/F000_Round1.ims'\n",
    "r = requests.get(url, allow_redirects=True)\n",
    "open('F000_Round1.ims', 'wb').write(r.content)"
   ]
  },
  {
   "cell_type": "code",
   "execution_count": 1,
   "id": "57adc104",
   "metadata": {},
   "outputs": [],
   "source": [
    "# load the 3d image volume\n",
    "import h5py\n",
    "import numpy as np\n",
    "# order: zyx\n",
    "im = np.array(h5py.File('F000_Round1.ims','r')['DataSet']['ResolutionLevel 0']['TimePoint 0']['Channel 4']['Data'])"
   ]
  },
  {
   "cell_type": "code",
   "execution_count": null,
   "id": "e84d45e5",
   "metadata": {},
   "outputs": [
    {
     "name": "stderr",
     "output_type": "stream",
     "text": [
      "Exception in thread Thread-4:\n",
      "Traceback (most recent call last):\n",
      "  File \"/Applications/anaconda3/envs/exm/lib/python3.9/threading.py\", line 954, in _bootstrap_inner\n",
      "    self.run()\n",
      "  File \"/Applications/anaconda3/envs/exm/lib/python3.9/threading.py\", line 892, in run\n",
      "    self._target(*self._args, **self._kwargs)\n",
      "  File \"/Applications/anaconda3/envs/exm/lib/python3.9/site-packages/neuroglancer/server.py\", line 315, in start_server\n",
      "    global_server = Server(ioloop=ioloop, **global_server_args)\n",
      "  File \"/Applications/anaconda3/envs/exm/lib/python3.9/site-packages/neuroglancer/server.py\", line 100, in __init__\n",
      "    sockets = tornado.netutil.bind_sockets(port=bind_port, address=bind_address)\n",
      "  File \"/Applications/anaconda3/envs/exm/lib/python3.9/site-packages/tornado/netutil.py\", line 104, in bind_sockets\n",
      "    socket.getaddrinfo(address, port, family, socket.SOCK_STREAM, 0, flags),\n",
      "  File \"/Applications/anaconda3/envs/exm/lib/python3.9/socket.py\", line 953, in getaddrinfo\n",
      "    for res in _socket.getaddrinfo(host, port, family, type, proto, flags):\n",
      "socket.gaierror: [Errno 8] nodename nor servname provided, or not known\n"
     ]
    }
   ],
   "source": [
    "# setup neuroglancer\n",
    "import neuroglancer\n",
    "\n",
    "ip='127.0.0.1' # or public IP of the machine for sharable display\n",
    "port=98092 # change to an unused port number\n",
    "neuroglancer.set_server_bind_address(bind_address=ip, bind_port=port)\n",
    "viewer=neuroglancer.Viewer()\n",
    "\n",
    "print(viewer)"
   ]
  },
  {
   "cell_type": "code",
   "execution_count": null,
   "id": "27166990",
   "metadata": {},
   "outputs": [],
   "source": [
    "import emu\n",
    "from emu.ng import ngLayer\n",
    "# set volume resolution: order xyz\n",
    "res= [170,170,400]\n",
    "with viewer.txn() as s:\n",
    "    s.layers.append(name='im', layer=ngLayer(im, res, tt='image'))"
   ]
  }
 ],
 "metadata": {
  "kernelspec": {
   "display_name": "Python 3",
   "language": "python",
   "name": "python3"
  },
  "language_info": {
   "codemirror_mode": {
    "name": "ipython",
    "version": 3
   },
   "file_extension": ".py",
   "mimetype": "text/x-python",
   "name": "python",
   "nbconvert_exporter": "python",
   "pygments_lexer": "ipython3",
   "version": "3.9.5"
  }
 },
 "nbformat": 4,
 "nbformat_minor": 5
}
