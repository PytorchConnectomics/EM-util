{
 "cells": [
  {
   "cell_type": "markdown",
   "id": "bdd8e256",
   "metadata": {},
   "source": [
    "# 1. Install pacakges"
   ]
  },
  {
   "cell_type": "code",
   "execution_count": null,
   "id": "e4b70b54",
   "metadata": {
    "scrolled": true
   },
   "outputs": [],
   "source": [
    "# install neuroglancer for visualization\n",
    "import sys\n",
    "!{sys.executable} -m pip install neuroglancer==2.13"
   ]
  },
  {
   "cell_type": "code",
   "execution_count": null,
   "id": "f2cd2ad5",
   "metadata": {
    "scrolled": true
   },
   "outputs": [],
   "source": [
    "# SKIP this step if you have already installed the package\n",
    "# install EM-util for utility functions\n",
    "!git clone https://github.com/donglaiw/EM-util emu_repo\n",
    "!{sys.executable} -m pip install -e emu_repo\n",
    "\n",
    "# windows machine:\n",
    "# !{sys.executable} -m pip install https://github.com/donglaiw/EM-util/archive/refs/tags/0.1.tar.gz"
   ]
  },
  {
   "cell_type": "markdown",
   "id": "7120ec2f",
   "metadata": {},
   "source": [
    "# 2. Load a 3D volume in neuroglancer"
   ]
  },
  {
   "cell_type": "code",
   "execution_count": null,
   "id": "482b1ba4-d9bc-4420-8e76-87d97f1234eb",
   "metadata": {},
   "outputs": [],
   "source": [
    "# setup neuroglancer\n",
    "# doesn't work on mac OS big Sur yet..\n",
    "import neuroglancer\n",
    "ip='localhost' # or public IP of the machine for sharable display\n",
    "port=98092 # change to an unused port number\n",
    "neuroglancer.set_server_bind_address(bind_address=ip, bind_port=port)\n",
    "viewer=neuroglancer.Viewer()\n",
    "\n",
    "# click on the url to see the viewer\n",
    "print(viewer)"
   ]
  },
  {
   "cell_type": "code",
   "execution_count": null,
   "id": "0fd23f1e",
   "metadata": {},
   "outputs": [],
   "source": [
    "# download data\n",
    "import requests\n",
    "url = 'http://rhoana.rc.fas.harvard.edu/dataset/snemi_train.h5'\n",
    "r = requests.get(url, allow_redirects=True)\n",
    "open('snemi_train.h5', 'wb').write(r.content)"
   ]
  },
  {
   "cell_type": "code",
   "execution_count": null,
   "id": "57adc104",
   "metadata": {},
   "outputs": [],
   "source": [
    "# load the 3d image volume and display it\n",
    "import emu\n",
    "from emu.io import readH5\n",
    "# order: zyx\n",
    "im = readH5('snemi_train.h5')"
   ]
  },
  {
   "cell_type": "code",
   "execution_count": null,
   "id": "27166990",
   "metadata": {},
   "outputs": [],
   "source": [
    "from emu.ng import ngLayer\n",
    "\n",
    "# set volume resolution: order xyz\n",
    "res= [6,6,30]\n",
    "with viewer.txn() as s:\n",
    "    s.layers.append(name='image', layer=ngLayer(im, res, tt='image'))"
   ]
  }
 ],
 "metadata": {
  "kernelspec": {
   "display_name": "Python 3",
   "language": "python",
   "name": "python3"
  },
  "language_info": {
   "codemirror_mode": {
    "name": "ipython",
    "version": 3
   },
   "file_extension": ".py",
   "mimetype": "text/x-python",
   "name": "python",
   "nbconvert_exporter": "python",
   "pygments_lexer": "ipython3",
   "version": "3.9.5"
  }
 },
 "nbformat": 4,
 "nbformat_minor": 5
}
